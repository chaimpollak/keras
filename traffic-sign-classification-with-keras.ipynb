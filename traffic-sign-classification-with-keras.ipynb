{
 "cells": [
  {
   "cell_type": "markdown",
   "metadata": {},
   "source": [
    "# Traffic Sign Classification with Keras\n",
    "\n",
    "Keras exists to make coding deep neural networks simpler. To demonstrate just how easy it is, you’re going to use Keras to build a convolutional neural network in a few dozen lines of code.\n",
    "\n",
    "You’ll be connecting the concepts from the previous lessons to the methods that Keras provides."
   ]
  },
  {
   "cell_type": "markdown",
   "metadata": {},
   "source": [
    "## Dataset\n",
    "\n",
    "The network you'll build with Keras is similar to the example that you can find in Keras’s GitHub repository that builds out a [convolutional neural network for MNIST](https://github.com/fchollet/keras/blob/master/examples/mnist_cnn.py). \n",
    "\n",
    "However, instead of using the [MNIST](http://yann.lecun.com/exdb/mnist/) dataset, you're going to use the [German Traffic Sign Recognition Benchmark](http://benchmark.ini.rub.de/?section=gtsrb&subsection=news) dataset that you've used previously.\n",
    "\n",
    "You can download pickle files with sanitized traffic sign data here."
   ]
  },
  {
   "cell_type": "markdown",
   "metadata": {},
   "source": [
    "## Overview\n",
    "\n",
    "Here are the steps you'll take to build the network:\n",
    "\n",
    "1. First load the data.\n",
    "2. Build a feedforward neural network to classify traffic signs.\n",
    "3. Build a convolutional neural network to classify traffic signs.\n",
    "\n",
    "Keep an eye on the network’s accuracy over time. Once the accuracy reaches the 98% range, you can be confident that you’ve built and trained an effective model."
   ]
  },
  {
   "cell_type": "markdown",
   "metadata": {},
   "source": [
    "## Load the Data\n",
    "\n",
    "Start by importing the data from the pickle file."
   ]
  },
  {
   "cell_type": "code",
   "execution_count": 1,
   "metadata": {
    "collapsed": false
   },
   "outputs": [
    {
     "name": "stderr",
     "output_type": "stream",
     "text": [
      "Using TensorFlow backend.\n"
     ]
    }
   ],
   "source": [
    "import os.path\n",
    "import pickle\n",
    "has_train_data = os.path.isfile('train.p') \n",
    "if not has_train_data:\n",
    "    import urllib.request as request\n",
    "    train_url = \"https://d17h27t6h515a5.cloudfront.net/topher/2016/October/580ad86d_train/train.p\"\n",
    "    test_url = \"https://d17h27t6h515a5.cloudfront.net/topher/2016/October/580ad89e_test/test.p\"\n",
    "    place_holder = request.urlretrieve(train_url,'train.p')\n",
    "    place_holder = request.urlretrieve(test_url,'test.p')\n",
    "    \n",
    "def load_train_test_data():\n",
    "    train_data = 'train.p'\n",
    "    test_data = 'test.p'\n",
    "    with open(train_data, 'rb') as f:\n",
    "        pickle_data = pickle.load(f)\n",
    "        X_train, y_train = pickle_data['features'],pickle_data['labels']   \n",
    "    del pickle_data  # Free up memory\n",
    "    return X_train, y_train\n",
    "\n",
    "\n",
    "from sklearn.utils import shuffle\n",
    "from keras.utils import np_utils\n",
    "from sklearn.model_selection import train_test_split\n",
    "import numpy as np\n",
    "## This method will load the train data, normailze it, shuffle it and split into train/validation data\n",
    "def reload_train_validation_data():\n",
    "    X_train, y_train = load_train_test_data()\n",
    "    X_train = X_train.astype('float32')\n",
    "    X_train /= 255 ## => sets the values between 0 and 1\n",
    "    X_train -= 0.5 ## => sets the values between -0.5 and 0.5\n",
    "    Y_train = np_utils.to_categorical(y_train, 43)\n",
    "    X_train, Y_train = shuffle(X_train, Y_train, random_state=123)\n",
    "    return train_test_split(X_train,Y_train,test_size=0.25,random_state=123)\n",
    "X_train, X_val, Y_train, Y_val = reload_train_validation_data()"
   ]
  },
  {
   "cell_type": "code",
   "execution_count": 2,
   "metadata": {
    "collapsed": false
   },
   "outputs": [],
   "source": [
    "# STOP: Do not change the tests below. Your implementation should pass these tests. \n",
    "assert(round(np.mean(X_train)) == 0), \"The mean of the input data is: %f\" % np.mean(X_train)\n",
    "assert(np.min(X_train) == -0.5 and np.max(X_train) == 0.5), \"The range of the input data is: %.1f to %.1f\" % (np.min(X_train), np.max(X_train))"
   ]
  },
  {
   "cell_type": "code",
   "execution_count": 3,
   "metadata": {
    "collapsed": false
   },
   "outputs": [],
   "source": [
    "n_inputs = 32*32*3\n",
    "X_train = X_train.reshape(len(X_train), n_inputs)\n",
    "X_val = X_val.reshape(len(X_val), n_inputs)"
   ]
  },
  {
   "cell_type": "markdown",
   "metadata": {},
   "source": [
    "## Build a Two-Layer Feedfoward Network\n",
    "\n",
    "The code you've written so far is for data processing, not specific to Keras. Here you're going to build Keras-specific code.\n",
    "\n",
    "Build a two-layer feedforward neural network, with 128 neurons in the fully-connected hidden layer. \n",
    "\n",
    "To get started, review the Keras documentation about [models](https://keras.io/models/sequential/) and [layers](https://keras.io/layers/core/).\n",
    "\n",
    "The Keras example of a [Multi-Layer Perceptron](https://github.com/fchollet/keras/blob/master/examples/mnist_mlp.py) network is similar to what you need to do here. Use that as a guide, but keep in mind that there are a number of differences."
   ]
  },
  {
   "cell_type": "code",
   "execution_count": 4,
   "metadata": {
    "collapsed": false
   },
   "outputs": [
    {
     "name": "stdout",
     "output_type": "stream",
     "text": [
      "____________________________________________________________________________________________________\n",
      "Layer (type)                     Output Shape          Param #     Connected to                     \n",
      "====================================================================================================\n",
      "hidden1 (Dense)                  (None, 128)           393344      dense_input_1[0][0]              \n",
      "____________________________________________________________________________________________________\n",
      "activation_1 (Activation)        (None, 128)           0           hidden1[0][0]                    \n",
      "____________________________________________________________________________________________________\n",
      "hidden2 (Dense)                  (None, 128)           16512       activation_1[0][0]               \n",
      "____________________________________________________________________________________________________\n",
      "activation_2 (Activation)        (None, 128)           0           hidden2[0][0]                    \n",
      "____________________________________________________________________________________________________\n",
      "output (Dense)                   (None, 43)            5547        activation_2[0][0]               \n",
      "____________________________________________________________________________________________________\n",
      "activation_3 (Activation)        (None, 43)            0           output[0][0]                     \n",
      "====================================================================================================\n",
      "Total params: 415403\n",
      "____________________________________________________________________________________________________\n"
     ]
    }
   ],
   "source": [
    "# TODO: Build a two-layer feedforward neural network with Keras here.\n",
    "from keras.models import Sequential\n",
    "from keras.layers.core import Dense, Activation\n",
    "\n",
    "n_layer = 128\n",
    "n_classes = 43\n",
    "\n",
    "model = Sequential()\n",
    "model.add(Dense(n_layer, input_shape=(n_inputs,),name=\"hidden1\"))\n",
    "model.add(Activation('relu'))\n",
    "model.add(Dense(n_layer,name=\"hidden2\"))\n",
    "model.add(Activation('relu'))\n",
    "model.add(Dense(n_classes,name=\"output\"))\n",
    "model.add(Activation('softmax'))\n",
    "\n",
    "model.summary()\n",
    "\n",
    "\n",
    "\n",
    "# STOP: Do not change the tests below. Your implementation should pass these tests.\n",
    "assert(model.get_layer(name=\"hidden1\").input_shape == (None, 32*32*3)), \"The input shape is: %s\" % model.get_layer(name=\"hidden1\").input_shape\n",
    "assert(model.get_layer(name=\"output\").output_shape == (None, 43)), \"The output shape is: %s\" % model.get_layer(name=\"output\").output_shape "
   ]
  },
  {
   "cell_type": "markdown",
   "metadata": {},
   "source": [
    "## Train the Network\n",
    "Compile and train the network for 2 epochs. [Use the `adam` optimizer, with `categorical_crossentropy` loss.](https://keras.io/models/sequential/)\n",
    "\n",
    "Hint 1: In order to use categorical cross entropy, you will need to [one-hot encode the labels](https://github.com/fchollet/keras/blob/master/keras/utils/np_utils.py).\n",
    "\n",
    "Hint 2: In order to pass the input images to the fully-connected hidden layer, you will need to [reshape the input](https://github.com/fchollet/keras/blob/master/examples/mnist_mlp.py).\n",
    "\n",
    "Hint 3: Keras's `.fit()` method returns a `History.history` object, which the tests below use. Save that to a variable named `history`."
   ]
  },
  {
   "cell_type": "code",
   "execution_count": 5,
   "metadata": {
    "collapsed": false
   },
   "outputs": [
    {
     "name": "stdout",
     "output_type": "stream",
     "text": [
      "Epoch 1/2\n",
      "29406/29406 [==============================] - 6s - loss: 1.7880 - acc: 0.5165     \n",
      "Epoch 2/2\n",
      "29406/29406 [==============================] - 5s - loss: 0.7231 - acc: 0.7943     \n"
     ]
    }
   ],
   "source": [
    "# TODO: Compile and train the model here.\n",
    "n_epoch = 2\n",
    "batch_size = 100\n",
    "\n",
    "model.compile(loss='categorical_crossentropy',optimizer='adam',metrics=['accuracy'])\n",
    "history = model.fit(X_train, Y_train, batch_size=batch_size, nb_epoch=n_epoch, verbose=1)\n",
    "\n",
    "assert(history.history['acc'][0] > 0.5), \"The training accuracy was: %.3f\" % history.history['acc']"
   ]
  },
  {
   "cell_type": "markdown",
   "metadata": {},
   "source": [
    "## Validate the Network\n",
    "Split the training data into a training and validation set.\n",
    "\n",
    "Measure the [validation accuracy](https://keras.io/models/sequential/) of the network after two training epochs.\n",
    "\n",
    "Hint: [Use the `train_test_split()` method](http://scikit-learn.org/stable/modules/generated/sklearn.model_selection.train_test_split.html) from scikit-learn."
   ]
  },
  {
   "cell_type": "code",
   "execution_count": 6,
   "metadata": {
    "collapsed": false
   },
   "outputs": [
    {
     "name": "stdout",
     "output_type": "stream",
     "text": [
      "Train on 29406 samples, validate on 9803 samples\n",
      "Epoch 1/2\n",
      "29406/29406 [==============================] - 6s - loss: 0.5128 - acc: 0.8524 - val_loss: 0.7796 - val_acc: 0.8032\n",
      "Epoch 2/2\n",
      "29406/29406 [==============================] - 6s - loss: 0.4196 - acc: 0.8841 - val_loss: 0.4396 - val_acc: 0.8729\n"
     ]
    }
   ],
   "source": [
    "\n",
    "history = model.fit(X_train, Y_train, batch_size=batch_size, nb_epoch=n_epoch, verbose=1, validation_data=(X_val, Y_val))\n",
    "\n",
    "# STOP: Do not change the tests below. Your implementation should pass these tests.\n",
    "assert(round(X_train.shape[0] / float(X_val.shape[0])) == 3), \"The training set is %.3f times larger than the validation set.\" % X_train.shape[0] / float(X_val.shape[0])\n",
    "assert(history.history['val_acc'][0] > 0.6), \"The validation accuracy is: %.3f\" % history.history['val_acc'][0]"
   ]
  },
  {
   "cell_type": "markdown",
   "metadata": {},
   "source": [
    "**Validation Accuracy**:"
   ]
  },
  {
   "cell_type": "code",
   "execution_count": 7,
   "metadata": {
    "collapsed": false
   },
   "outputs": [
    {
     "name": "stdout",
     "output_type": "stream",
     "text": [
      "Validation Accuracy: 0.872896052253\n"
     ]
    }
   ],
   "source": [
    "score = model.evaluate(X_val, Y_val, verbose=0)\n",
    "print('Validation Accuracy:', score[1])"
   ]
  },
  {
   "cell_type": "markdown",
   "metadata": {},
   "source": [
    "## Congratulations\n",
    "You've built a feedforward neural network in Keras!\n",
    "\n",
    "Don't stop here! Next, you'll add a convolutional layer to drive.py."
   ]
  },
  {
   "cell_type": "markdown",
   "metadata": {},
   "source": [
    "## Convolutions\n",
    "Build a new network, similar to your existing network. Before the hidden layer, add a 3x3 [convolutional layer](https://keras.io/layers/convolutional/#convolution2d) with 32 filters and valid padding.\n",
    "\n",
    "Then compile and train the network.\n",
    "\n",
    "Hint 1: The Keras example of a [convolutional neural network](https://github.com/fchollet/keras/blob/master/examples/mnist_cnn.py) for MNIST would be a good example to review.\n",
    "\n",
    "Hint 2: Now that the first layer of the network is a convolutional layer, you no longer need to reshape the input images before passing them to the network. You might need to reload your training data to recover the original shape.\n",
    "\n",
    "Hint 3: Add a [`Flatten()` layer](https://keras.io/layers/core/#flatten) between the convolutional layer and the fully-connected hidden layer."
   ]
  },
  {
   "cell_type": "code",
   "execution_count": 8,
   "metadata": {
    "collapsed": false
   },
   "outputs": [
    {
     "name": "stdout",
     "output_type": "stream",
     "text": [
      "Train on 29406 samples, validate on 9803 samples\n",
      "Epoch 1/5\n",
      "29406/29406 [==============================] - 230s - loss: 1.7949 - acc: 0.5538 - val_loss: 0.7309 - val_acc: 0.8093\n",
      "Epoch 2/5\n",
      "29406/29406 [==============================] - 232s - loss: 0.4825 - acc: 0.8789 - val_loss: 0.3890 - val_acc: 0.8971\n",
      "Epoch 3/5\n",
      "29406/29406 [==============================] - 239s - loss: 0.2601 - acc: 0.9411 - val_loss: 0.2382 - val_acc: 0.9504\n",
      "Epoch 4/5\n",
      "29406/29406 [==============================] - 231s - loss: 0.1687 - acc: 0.9620 - val_loss: 0.1939 - val_acc: 0.9519\n",
      "Epoch 5/5\n",
      "29406/29406 [==============================] - 231s - loss: 0.1294 - acc: 0.9701 - val_loss: 0.1692 - val_acc: 0.9597\n"
     ]
    }
   ],
   "source": [
    "from keras.models import Sequential\n",
    "from keras.layers.core import Dense, Activation\n",
    "from keras.layers import Convolution2D, MaxPooling2D\n",
    "from keras.layers import Flatten\n",
    "\n",
    "##reload the data\n",
    "X_train, X_val, Y_train, Y_val = reload_train_validation_data()\n",
    "\n",
    "\n",
    "##set parameters\n",
    "input_shape = X_train[0].shape\n",
    "kernel_size = (3, 3)\n",
    "n_filters = 32\n",
    "n_layer = 1024\n",
    "batch_size = 500\n",
    "n_epoch = 5\n",
    "n_classes = 43\n",
    "pool_size = (2, 2)\n",
    "\n",
    "##create the model\n",
    "model = Sequential()\n",
    "model.add(Convolution2D(n_filters, kernel_size[0], kernel_size[1],\n",
    "                        border_mode='same',input_shape=input_shape))\n",
    "model.add(Activation('relu'))\n",
    "model.add(Flatten())\n",
    "model.add(Dense(n_layer))\n",
    "model.add(Activation('relu'))\n",
    "model.add(Dense(n_classes))\n",
    "model.add(Activation('softmax'))\n",
    "model.compile(loss='categorical_crossentropy',optimizer='adam',metrics=['accuracy'])\n",
    "\n",
    "##model.summary() => visulize the model\n",
    "\n",
    "history = model.fit(X_train, Y_train, batch_size=batch_size, \n",
    "                    nb_epoch=n_epoch,verbose=1, validation_data=(X_val, Y_val))\n",
    "\n",
    "# STOP: Do not change the tests below. Your implementation should pass these tests.\n",
    "assert(history.history['val_acc'][0] > 0.9), \"The validation accuracy is: %.3f\" % history.history['val_acc'][0]"
   ]
  },
  {
   "cell_type": "markdown",
   "metadata": {},
   "source": [
    "**Validation Accuracy**: (fill in here)"
   ]
  },
  {
   "cell_type": "code",
   "execution_count": 9,
   "metadata": {
    "collapsed": false
   },
   "outputs": [
    {
     "name": "stdout",
     "output_type": "stream",
     "text": [
      "Validation Accuracy: 0.959706212414\n"
     ]
    }
   ],
   "source": [
    "score = model.evaluate(X_val, Y_val, verbose=0)\n",
    "print('Validation Accuracy:', score[1])"
   ]
  },
  {
   "cell_type": "markdown",
   "metadata": {},
   "source": [
    "## Pooling\n",
    "Re-construct your network and add a 2x2 [pooling layer](https://keras.io/layers/pooling/#maxpooling2d) immediately following your convolutional layer.\n",
    "\n",
    "Then compile and train the network."
   ]
  },
  {
   "cell_type": "code",
   "execution_count": 11,
   "metadata": {
    "collapsed": false
   },
   "outputs": [
    {
     "name": "stdout",
     "output_type": "stream",
     "text": [
      "Train on 29406 samples, validate on 9803 samples\n",
      "Epoch 1/5\n",
      "29406/29406 [==============================] - 82s - loss: 1.9136 - acc: 0.4939 - val_loss: 0.9673 - val_acc: 0.7537\n",
      "Epoch 2/5\n",
      "29406/29406 [==============================] - 82s - loss: 0.6823 - acc: 0.8231 - val_loss: 0.4936 - val_acc: 0.8711\n",
      "Epoch 3/5\n",
      "29406/29406 [==============================] - 83s - loss: 0.3843 - acc: 0.9061 - val_loss: 0.3286 - val_acc: 0.9224\n",
      "Epoch 4/5\n",
      "29406/29406 [==============================] - 90s - loss: 0.2612 - acc: 0.9362 - val_loss: 0.2650 - val_acc: 0.9278\n",
      "Epoch 5/5\n",
      "29406/29406 [==============================] - 108s - loss: 0.1926 - acc: 0.9555 - val_loss: 0.2254 - val_acc: 0.9399\n"
     ]
    }
   ],
   "source": [
    "##reload the data\n",
    "X_train, X_val, Y_train, Y_val = reload_train_validation_data()\n",
    "\n",
    "\n",
    "##set parameters\n",
    "input_shape = X_train[0].shape\n",
    "kernel_size = (3, 3)\n",
    "n_filters = 32\n",
    "n_layer = 1024\n",
    "batch_size = 500\n",
    "n_epoch = 5\n",
    "n_classes = 43\n",
    "pool_size = (2, 2)\n",
    "\n",
    "##create the model\n",
    "from keras.layers import Convolution2D, MaxPooling2D\n",
    "from keras.layers import Flatten\n",
    "\n",
    "model = Sequential()\n",
    "model.add(Convolution2D(n_filters, kernel_size[0], kernel_size[1],\n",
    "                        border_mode='same',input_shape=input_shape))\n",
    "model.add(Activation('relu'))\n",
    "model.add(MaxPooling2D(pool_size=pool_size))\n",
    "model.add(Flatten())\n",
    "model.add(Dense(n_layer))\n",
    "model.add(Activation('relu'))\n",
    "model.add(Dense(n_classes))\n",
    "model.add(Activation('softmax'))\n",
    "model.compile(loss='categorical_crossentropy',optimizer='adam',metrics=['accuracy'])\n",
    "\n",
    "#model.summary()\n",
    "\n",
    "history = model.fit(X_train, Y_train, batch_size=batch_size, \n",
    "                    nb_epoch=n_epoch,verbose=1, validation_data=(X_val, Y_val))\n",
    "# STOP: Do not change the tests below. Your implementation should pass these tests.\n",
    "assert(history.history['val_acc'][0] > 0.9), \"The validation accuracy is: %.3f\" % history.history['val_acc'][0]"
   ]
  },
  {
   "cell_type": "markdown",
   "metadata": {},
   "source": [
    "**Validation Accuracy**:"
   ]
  },
  {
   "cell_type": "code",
   "execution_count": 12,
   "metadata": {
    "collapsed": false
   },
   "outputs": [
    {
     "name": "stdout",
     "output_type": "stream",
     "text": [
      "Validation Accuracy: 0.939916352168\n"
     ]
    }
   ],
   "source": [
    "score = model.evaluate(X_val, Y_val, verbose=0)\n",
    "print('Validation Accuracy:', score[1])"
   ]
  },
  {
   "cell_type": "markdown",
   "metadata": {},
   "source": [
    "## Dropout\n",
    "Re-construct your network and add [dropout](https://keras.io/layers/core/#dropout) after the pooling layer. Set the dropout rate to 50%."
   ]
  },
  {
   "cell_type": "code",
   "execution_count": 13,
   "metadata": {
    "collapsed": false
   },
   "outputs": [
    {
     "name": "stdout",
     "output_type": "stream",
     "text": [
      "____________________________________________________________________________________________________\n",
      "Layer (type)                     Output Shape          Param #     Connected to                     \n",
      "====================================================================================================\n",
      "convolution2d_3 (Convolution2D)  (None, 32, 32, 32)    896         convolution2d_input_3[0][0]      \n",
      "____________________________________________________________________________________________________\n",
      "activation_10 (Activation)       (None, 32, 32, 32)    0           convolution2d_3[0][0]            \n",
      "____________________________________________________________________________________________________\n",
      "maxpooling2d_2 (MaxPooling2D)    (None, 16, 16, 32)    0           activation_10[0][0]              \n",
      "____________________________________________________________________________________________________\n",
      "dropout_1 (Dropout)              (None, 16, 16, 32)    0           maxpooling2d_2[0][0]             \n",
      "____________________________________________________________________________________________________\n",
      "flatten_3 (Flatten)              (None, 8192)          0           dropout_1[0][0]                  \n",
      "____________________________________________________________________________________________________\n",
      "dense_5 (Dense)                  (None, 1024)          8389632     flatten_3[0][0]                  \n",
      "____________________________________________________________________________________________________\n",
      "activation_11 (Activation)       (None, 1024)          0           dense_5[0][0]                    \n",
      "____________________________________________________________________________________________________\n",
      "dropout_2 (Dropout)              (None, 1024)          0           activation_11[0][0]              \n",
      "____________________________________________________________________________________________________\n",
      "dense_6 (Dense)                  (None, 43)            44075       dropout_2[0][0]                  \n",
      "____________________________________________________________________________________________________\n",
      "activation_12 (Activation)       (None, 43)            0           dense_6[0][0]                    \n",
      "====================================================================================================\n",
      "Total params: 8434603\n",
      "____________________________________________________________________________________________________\n",
      "Train on 29406 samples, validate on 9803 samples\n",
      "Epoch 1/5\n",
      "29406/29406 [==============================] - 104s - loss: 1.9862 - acc: 0.4696 - val_loss: 0.9971 - val_acc: 0.7330\n",
      "Epoch 2/5\n",
      "29406/29406 [==============================] - 106s - loss: 0.7254 - acc: 0.8037 - val_loss: 0.4558 - val_acc: 0.9004\n",
      "Epoch 3/5\n",
      "29406/29406 [==============================] - 93s - loss: 0.4071 - acc: 0.8970 - val_loss: 0.2934 - val_acc: 0.9297\n",
      "Epoch 4/5\n",
      "29406/29406 [==============================] - 102s - loss: 0.2864 - acc: 0.9250 - val_loss: 0.2211 - val_acc: 0.9522\n",
      "Epoch 5/5\n",
      "29406/29406 [==============================] - 110s - loss: 0.2154 - acc: 0.9444 - val_loss: 0.1790 - val_acc: 0.9596\n"
     ]
    }
   ],
   "source": [
    "from keras.layers.core import Dropout\n",
    "\n",
    "X_train, X_val, Y_train, Y_val = reload_train_validation_data()\n",
    "\n",
    "\n",
    "##set parameters\n",
    "input_shape = X_train[0].shape\n",
    "kernel_size = (3, 3)\n",
    "n_filters = 32\n",
    "n_layer = 1024\n",
    "batch_size = 500\n",
    "n_epoch = 5\n",
    "pool_size = (2, 2)\n",
    "\n",
    "##create the model\n",
    "from keras.layers import Convolution2D, MaxPooling2D\n",
    "from keras.layers import Flatten\n",
    "\n",
    "model = Sequential()\n",
    "model.add(Convolution2D(n_filters, kernel_size[0], kernel_size[1],\n",
    "                        border_mode='same',input_shape=input_shape))\n",
    "model.add(Activation('relu'))\n",
    "model.add(MaxPooling2D(pool_size=pool_size))\n",
    "model.add(Dropout(0.25)) ## => keep 75% of the input units\n",
    "model.add(Flatten())\n",
    "model.add(Dense(n_layer))\n",
    "model.add(Activation('relu'))\n",
    "model.add(Dropout(0.25))\n",
    "model.add(Dense(n_classes))\n",
    "model.add(Activation('softmax'))\n",
    "model.compile(loss='categorical_crossentropy',optimizer='adam',metrics=['accuracy'])\n",
    "\n",
    "model.summary()\n",
    "\n",
    "history = model.fit(X_train, Y_train, batch_size=batch_size, \n",
    "                    nb_epoch=n_epoch,verbose=1, validation_data=(X_val, Y_val))\n",
    "\n",
    "# STOP: Do not change the tests below. Your implementation should pass these tests.\n",
    "assert(history.history['val_acc'][0] > 0.9), \"The validation accuracy is: %.3f\" % history.history['val_acc'][0]"
   ]
  },
  {
   "cell_type": "code",
   "execution_count": null,
   "metadata": {
    "collapsed": true
   },
   "outputs": [],
   "source": [
    "**Validation Accuracy**:"
   ]
  },
  {
   "cell_type": "code",
   "execution_count": 15,
   "metadata": {
    "collapsed": false
   },
   "outputs": [
    {
     "name": "stdout",
     "output_type": "stream",
     "text": [
      "Validation Accuracy: 0.959604202789\n"
     ]
    }
   ],
   "source": [
    "score = model.evaluate(X_val, Y_val, verbose=0)\n",
    "print('Validation Accuracy:', score[1])"
   ]
  },
  {
   "cell_type": "markdown",
   "metadata": {},
   "source": [
    "## Optimization\n",
    "Congratulations! You've built a neural network with convolutions, pooling, dropout, and fully-connected layers, all in just a few lines of code.\n",
    "\n",
    "Have fun with the model and see how well you can do! Add more layers, or regularization, or different padding, or batches, or more training epochs.\n",
    "\n",
    "What is the best validation accuracy you can achieve?"
   ]
  },
  {
   "cell_type": "code",
   "execution_count": 16,
   "metadata": {
    "collapsed": false
   },
   "outputs": [
    {
     "name": "stdout",
     "output_type": "stream",
     "text": [
      "Train on 29406 samples, validate on 9803 samples\n",
      "Epoch 1/10\n",
      "29406/29406 [==============================] - 182s - loss: 3.1608 - acc: 0.1664 - val_loss: 2.2274 - val_acc: 0.3690\n",
      "Epoch 2/10\n",
      "29406/29406 [==============================] - 188s - loss: 2.0568 - acc: 0.3933 - val_loss: 1.4997 - val_acc: 0.5240\n",
      "Epoch 3/10\n",
      "29406/29406 [==============================] - 192s - loss: 1.3871 - acc: 0.5666 - val_loss: 0.9620 - val_acc: 0.6968\n",
      "Epoch 4/10\n",
      "29406/29406 [==============================] - 221s - loss: 0.9112 - acc: 0.7089 - val_loss: 0.8309 - val_acc: 0.7286\n",
      "Epoch 5/10\n",
      "29406/29406 [==============================] - 228s - loss: 0.5907 - acc: 0.8117 - val_loss: 0.3013 - val_acc: 0.9129\n",
      "Epoch 6/10\n",
      "29406/29406 [==============================] - 230s - loss: 0.3950 - acc: 0.8764 - val_loss: 0.2380 - val_acc: 0.9344\n",
      "Epoch 7/10\n",
      "29406/29406 [==============================] - 224s - loss: 0.2910 - acc: 0.9128 - val_loss: 0.2240 - val_acc: 0.9302\n",
      "Epoch 8/10\n",
      "29406/29406 [==============================] - 201s - loss: 0.2044 - acc: 0.9397 - val_loss: 0.1174 - val_acc: 0.9727\n",
      "Epoch 9/10\n",
      "29406/29406 [==============================] - 189s - loss: 0.1665 - acc: 0.9508 - val_loss: 0.1074 - val_acc: 0.9727\n",
      "Epoch 10/10\n",
      "29406/29406 [==============================] - 179s - loss: 0.1299 - acc: 0.9623 - val_loss: 0.0883 - val_acc: 0.9817\n"
     ]
    }
   ],
   "source": [
    "from keras.layers.core import Dropout\n",
    "\n",
    "X_train, X_val, Y_train, Y_val = reload_train_validation_data()\n",
    "\n",
    "##set parameters\n",
    "input_shape = X_train[0].shape\n",
    "kernel_size = (3, 3)\n",
    "n_filters = 32\n",
    "n_layer_1 = 1024\n",
    "n_layer_2 = 512\n",
    "batch_size = 500\n",
    "n_epoch = 10\n",
    "pool_size = (2, 2)\n",
    "\n",
    "##create the model\n",
    "from keras.layers import Convolution2D, MaxPooling2D\n",
    "from keras.layers import Flatten\n",
    "\n",
    "model = Sequential()\n",
    "##First conv-net layer\n",
    "model.add(Convolution2D(n_filters, kernel_size[0], kernel_size[1],\n",
    "                        border_mode='same',input_shape=input_shape))\n",
    "model.add(Activation('relu'))\n",
    "##Second conv-net layer\n",
    "model.add(Convolution2D(n_filters, kernel_size[0], kernel_size[1],\n",
    "                        border_mode='same',input_shape=input_shape))\n",
    "model.add(Activation('relu'))\n",
    "\n",
    "model.add(MaxPooling2D(pool_size=pool_size)) # => pooling\n",
    "model.add(Dropout(0.25)) \n",
    "model.add(Flatten())\n",
    "##third layer\n",
    "model.add(Dense(n_layer_1)) \n",
    "model.add(Activation('relu'))\n",
    "model.add(Dropout(0.25))\n",
    "\n",
    "##fourth layer\n",
    "model.add(Dense(n_layer_2)) \n",
    "model.add(Activation('relu'))\n",
    "model.add(Dropout(0.25))\n",
    "\n",
    "model.add(Dense(n_classes))\n",
    "model.add(Activation('softmax'))\n",
    "\n",
    "model.compile(loss='categorical_crossentropy',optimizer='adadelta',metrics=['accuracy'])\n",
    "\n",
    "#model.summary()\n",
    "\n",
    "history = model.fit(X_train, Y_train, batch_size=batch_size, \n",
    "                    nb_epoch=n_epoch,verbose=1, validation_data=(X_val, Y_val))"
   ]
  },
  {
   "cell_type": "markdown",
   "metadata": {},
   "source": [
    "**Best Validation Accuracy:**"
   ]
  },
  {
   "cell_type": "code",
   "execution_count": 18,
   "metadata": {
    "collapsed": false
   },
   "outputs": [
    {
     "name": "stdout",
     "output_type": "stream",
     "text": [
      "Validation Accuracy: 0.981740283587\n"
     ]
    }
   ],
   "source": [
    "score = model.evaluate(X_val, Y_val, verbose=0)\n",
    "print('Validation Accuracy:', score[1])"
   ]
  },
  {
   "cell_type": "markdown",
   "metadata": {},
   "source": [
    "## Testing\n",
    "Once you've picked out your best model, it's time to test it.\n",
    "\n",
    "Load up the test data and use the [`evaluate()` method](https://keras.io/models/model/#evaluate) to see how well it does.\n",
    "\n",
    "Hint 1: After you load your test data, don't forget to normalize the input and one-hot encode the output, so it matches the training data.\n",
    "\n",
    "Hint 2: The `evaluate()` method should return an array of numbers. Use the `metrics_names()` method to get the labels."
   ]
  },
  {
   "cell_type": "code",
   "execution_count": 19,
   "metadata": {
    "collapsed": false
   },
   "outputs": [
    {
     "name": "stdout",
     "output_type": "stream",
     "text": [
      "12630/12630 [==============================] - 28s    \n"
     ]
    }
   ],
   "source": [
    "with open('./test.p', mode='rb') as f:\n",
    "    test = pickle.load(f)\n",
    "    \n",
    "X_test = test['features']\n",
    "y_test = test['labels']\n",
    "X_test = X_test.astype('float32')\n",
    "X_test /= 255\n",
    "X_test -= 0.5\n",
    "Y_test = np_utils.to_categorical(y_test, 43)\n",
    "\n",
    "score = model.evaluate(X_test, Y_test)"
   ]
  },
  {
   "cell_type": "markdown",
   "metadata": {},
   "source": [
    "**Test Accuracy:**"
   ]
  },
  {
   "cell_type": "code",
   "execution_count": 20,
   "metadata": {
    "collapsed": false
   },
   "outputs": [
    {
     "name": "stdout",
     "output_type": "stream",
     "text": [
      "Test Accuracy: 0.882660332504\n"
     ]
    }
   ],
   "source": [
    "print('Test Accuracy:', score[1])"
   ]
  },
  {
   "cell_type": "markdown",
   "metadata": {},
   "source": [
    "## Summary\n",
    "Keras is a great tool to use if you want to quickly build a neural network and evaluate performance."
   ]
  }
 ],
 "metadata": {
  "anaconda-cloud": {},
  "kernelspec": {
   "display_name": "Python 3",
   "language": "python",
   "name": "python3"
  },
  "language_info": {
   "codemirror_mode": {
    "name": "ipython",
    "version": 3
   },
   "file_extension": ".py",
   "mimetype": "text/x-python",
   "name": "python",
   "nbconvert_exporter": "python",
   "pygments_lexer": "ipython3",
   "version": "3.5.2"
  }
 },
 "nbformat": 4,
 "nbformat_minor": 0
}
